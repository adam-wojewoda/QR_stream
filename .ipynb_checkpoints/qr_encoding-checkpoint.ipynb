{
 "cells": [
  {
   "cell_type": "code",
   "execution_count": 1,
   "id": "6302d367-2f5d-4222-ad91-e0b37a79fcaf",
   "metadata": {},
   "outputs": [],
   "source": [
    "import qrcode\n",
    "# import zxing\n",
    "from qrtools import qrtools\n",
    "from os import path\n",
    "import compress.api as compress\n",
    "from tqdm.notebook import tqdm\n",
    "from PIL import Image\n",
    "from pyzbar.pyzbar import decode"
   ]
  },
  {
   "cell_type": "code",
   "execution_count": 2,
   "id": "5032890a-3b57-46ca-bdb0-53c9c1303697",
   "metadata": {},
   "outputs": [],
   "source": [
    "def bin_to_qr(data, chunk_size=100,folder_path = None ,filename_prefix=\"qr_code\", box_size=1, border=10):\n",
    "    compressed_data = compress_bytes(data)\n",
    "    hex_data = compressed_data.hex()    \n",
    "    chunks = [hex_data[i:i+chunk_size] for i in range(0, len(hex_data), chunk_size)]\n",
    "    total_chunks = len(chunks)\n",
    "\n",
    "    for i, chunk in enumerate(tqdm(chunks), 1):\n",
    "        qr = qrcode.QRCode(version=None, error_correction=qrcode.constants.ERROR_CORRECT_M, box_size=box_size, border=border)\n",
    "        qr.add_data(f\"{i}/{total_chunks}:{chunk}\")\n",
    "        qr.make(fit=True)\n",
    "        print(f\"Generating QR code {i}\", end=\"\")\n",
    "        img = qr.make_image(fill_color=\"black\", back_color=\"white\")\n",
    "        out_path = path.join(folder_path, f\"{filename_prefix}_{i}.png\")\n",
    "        img.save(out_path)\n",
    "        print(f\"[OK]\")\n",
    "\n",
    "    print(f\"Generated {total_chunks} QR codes.\")\n",
    "    print(f\"Each QR code except the last one will contain {chunk_size} bytes of data.\")\n",
    "    print(f\"The last QR code will contain the remaining bytes of data ({len(chunks[-1]  )} bytes).\")\n",
    "\n",
    "def qr_to_bin(folder_path = None,filename_prefix=\"qr_code\"):\n",
    "    chunks = {}\n",
    "    i = 1\n",
    "    # reader = zxing.BarCodeReader()\n",
    "    # fallback_reader = qrtools.QR\n",
    "    \n",
    "\n",
    "    while True:\n",
    "        try:\n",
    "            filename = path.join(folder_path, f\"{filename_prefix}_{i}.png\")\n",
    "            print(f\"Decoding QR code {i}...\")\n",
    "            # print(filename)\n",
    "            # barcode = reader.decode(filename)\n",
    "            decoded = decode(Image.open(filename))[0].data.decode(\"utf-8\")\n",
    "\n",
    "\n",
    "            \n",
    "            print(f\"decoded...\", end=\"\")\n",
    "            # if barcode and barcode.parsed:\n",
    "            #     decoded = barcode.parsed\n",
    "            # else:\n",
    "            #     print(f\"Could not decode QR code {i}: {barcode.raw} with zxing, trying fallback reader...\")\n",
    "                \n",
    "            # split the decoded string into chunk_info and chunk_data\n",
    "            chunk_info, chunk_data = decoded.split(':', 1)\n",
    "            chunk_num, total_chunks = map(int, chunk_info.split('/'))\n",
    "            chunks[chunk_num] = chunk_data\n",
    "            # print(chunk_data)\n",
    "            print(f\"binary data extracted [OK]\")\n",
    "            if chunk_num == total_chunks:\n",
    "                break\n",
    "                # print(fallback_reader.data)\n",
    "            if not chunks[i]:\n",
    "                print(f\"Error decoding QR code {i}\")\n",
    "                exit(-1)\n",
    "            print(f\"binary data extracted [OK]\")\n",
    "\n",
    "            i += 1\n",
    "        except FileNotFoundError:\n",
    "            break\n",
    "        except Exception as e:\n",
    "            print(f\"Error decoding QR code {i}: {e}\")\n",
    "            raise e\n",
    "            exit(-1)\n",
    "\n",
    "    if not chunks:\n",
    "        print(\"No QR codes found.\")\n",
    "        return None\n",
    "\n",
    "    hex_data_compressed = ''.join(chunks[i] for i in range(1, len(chunks) + 1))\n",
    "    bytes_compressed = bytes.fromhex(hex_data_compressed)\n",
    "    return bytes_compressed\n",
    "\n",
    "# Compressing as much as possible\n",
    "\n",
    "def compress_bytes(data):\n",
    "    data_compressed = compress.compress(\n",
    "    algo=compress.Algorithm.gzip,\n",
    "    data=data,\n",
    "    kwargs={\"compresslevel\": 9})\n",
    "    return data_compressed\n",
    "\n",
    "def decompress_bytes(data):\n",
    "    # compressor = Compressor()\n",
    "    # compressor.use_gzip()\n",
    "    return compress.decompress(algo=compress.Algorithm.gzip,data=data, kwargs={\"compresslevel\": 9})"
   ]
  },
  {
   "cell_type": "code",
   "execution_count": 3,
   "id": "1e7ff633-77d2-4399-ba13-69e10c70b40e",
   "metadata": {
    "scrolled": true
   },
   "outputs": [
    {
     "data": {
      "application/vnd.jupyter.widget-view+json": {
       "model_id": "e7a78f3ffb3f42909587a955c4f7f7e9",
       "version_major": 2,
       "version_minor": 0
      },
      "text/plain": [
       "  0%|          | 0/3856 [00:00<?, ?it/s]"
      ]
     },
     "metadata": {},
     "output_type": "display_data"
    },
    {
     "name": "stdout",
     "output_type": "stream",
     "text": [
      "Generating QR code 1[OK]\n",
      "Generating QR code 2[OK]\n",
      "Generating QR code 3[OK]\n",
      "Generating QR code 4[OK]\n",
      "Generating QR code 5[OK]\n",
      "Generating QR code 6[OK]\n",
      "Generating QR code 7[OK]\n",
      "Generating QR code 8[OK]\n",
      "Generating QR code 9[OK]\n",
      "Generating QR code 10[OK]\n",
      "Generating QR code 11[OK]\n",
      "Generating QR code 12[OK]\n",
      "Generating QR code 13[OK]\n",
      "Generating QR code 14[OK]\n",
      "Generating QR code 15[OK]\n",
      "Generating QR code 16[OK]\n"
     ]
    },
    {
     "ename": "ValueError",
     "evalue": "glog(0)",
     "output_type": "error",
     "traceback": [
      "\u001b[0;31m---------------------------------------------------------------------------\u001b[0m",
      "\u001b[0;31mValueError\u001b[0m                                Traceback (most recent call last)",
      "Cell \u001b[0;32mIn[3], line 4\u001b[0m\n\u001b[1;32m      1\u001b[0m \u001b[38;5;28;01mwith\u001b[39;00m \u001b[38;5;28mopen\u001b[39m(\u001b[38;5;124m\"\u001b[39m\u001b[38;5;124mtest_file.JPG\u001b[39m\u001b[38;5;124m\"\u001b[39m, \u001b[38;5;124m\"\u001b[39m\u001b[38;5;124mrb\u001b[39m\u001b[38;5;124m\"\u001b[39m) \u001b[38;5;28;01mas\u001b[39;00m f:\n\u001b[1;32m      2\u001b[0m     data \u001b[38;5;241m=\u001b[39m f\u001b[38;5;241m.\u001b[39mread()\n\u001b[0;32m----> 4\u001b[0m \u001b[43mbin_to_qr\u001b[49m\u001b[43m(\u001b[49m\u001b[43mdata\u001b[49m\u001b[43m,\u001b[49m\u001b[43m \u001b[49m\u001b[43mfolder_path\u001b[49m\u001b[38;5;241;43m=\u001b[39;49m\u001b[38;5;124;43m'\u001b[39;49m\u001b[38;5;124;43mout_path/\u001b[39;49m\u001b[38;5;124;43m'\u001b[39;49m\u001b[43m  \u001b[49m\u001b[43m,\u001b[49m\u001b[43mchunk_size\u001b[49m\u001b[38;5;241;43m=\u001b[39;49m\u001b[38;5;241;43m2248\u001b[39;49m\u001b[43m,\u001b[49m\u001b[43m \u001b[49m\u001b[43mbox_size\u001b[49m\u001b[38;5;241;43m=\u001b[39;49m\u001b[38;5;241;43m2\u001b[39;49m\u001b[43m,\u001b[49m\u001b[43m \u001b[49m\u001b[43mborder\u001b[49m\u001b[38;5;241;43m=\u001b[39;49m\u001b[38;5;241;43m4\u001b[39;49m\u001b[43m)\u001b[49m\n",
      "Cell \u001b[0;32mIn[2], line 10\u001b[0m, in \u001b[0;36mbin_to_qr\u001b[0;34m(data, chunk_size, folder_path, filename_prefix, box_size, border)\u001b[0m\n\u001b[1;32m      8\u001b[0m qr \u001b[38;5;241m=\u001b[39m qrcode\u001b[38;5;241m.\u001b[39mQRCode(version\u001b[38;5;241m=\u001b[39m\u001b[38;5;28;01mNone\u001b[39;00m, error_correction\u001b[38;5;241m=\u001b[39mqrcode\u001b[38;5;241m.\u001b[39mconstants\u001b[38;5;241m.\u001b[39mERROR_CORRECT_M, box_size\u001b[38;5;241m=\u001b[39mbox_size, border\u001b[38;5;241m=\u001b[39mborder)\n\u001b[1;32m      9\u001b[0m qr\u001b[38;5;241m.\u001b[39madd_data(\u001b[38;5;124mf\u001b[39m\u001b[38;5;124m\"\u001b[39m\u001b[38;5;132;01m{\u001b[39;00mi\u001b[38;5;132;01m}\u001b[39;00m\u001b[38;5;124m/\u001b[39m\u001b[38;5;132;01m{\u001b[39;00mtotal_chunks\u001b[38;5;132;01m}\u001b[39;00m\u001b[38;5;124m:\u001b[39m\u001b[38;5;132;01m{\u001b[39;00mchunk\u001b[38;5;132;01m}\u001b[39;00m\u001b[38;5;124m\"\u001b[39m)\n\u001b[0;32m---> 10\u001b[0m \u001b[43mqr\u001b[49m\u001b[38;5;241;43m.\u001b[39;49m\u001b[43mmake\u001b[49m\u001b[43m(\u001b[49m\u001b[43mfit\u001b[49m\u001b[38;5;241;43m=\u001b[39;49m\u001b[38;5;28;43;01mTrue\u001b[39;49;00m\u001b[43m)\u001b[49m\n\u001b[1;32m     11\u001b[0m \u001b[38;5;28mprint\u001b[39m(\u001b[38;5;124mf\u001b[39m\u001b[38;5;124m\"\u001b[39m\u001b[38;5;124mGenerating QR code \u001b[39m\u001b[38;5;132;01m{\u001b[39;00mi\u001b[38;5;132;01m}\u001b[39;00m\u001b[38;5;124m\"\u001b[39m, end\u001b[38;5;241m=\u001b[39m\u001b[38;5;124m\"\u001b[39m\u001b[38;5;124m\"\u001b[39m)\n\u001b[1;32m     12\u001b[0m img \u001b[38;5;241m=\u001b[39m qr\u001b[38;5;241m.\u001b[39mmake_image(fill_color\u001b[38;5;241m=\u001b[39m\u001b[38;5;124m\"\u001b[39m\u001b[38;5;124mblack\u001b[39m\u001b[38;5;124m\"\u001b[39m, back_color\u001b[38;5;241m=\u001b[39m\u001b[38;5;124m\"\u001b[39m\u001b[38;5;124mwhite\u001b[39m\u001b[38;5;124m\"\u001b[39m)\n",
      "File \u001b[0;32m~/.local/lib/python3.10/site-packages/qrcode/main.py:161\u001b[0m, in \u001b[0;36mQRCode.make\u001b[0;34m(self, fit)\u001b[0m\n\u001b[1;32m    159\u001b[0m     \u001b[38;5;28mself\u001b[39m\u001b[38;5;241m.\u001b[39mbest_fit(start\u001b[38;5;241m=\u001b[39m\u001b[38;5;28mself\u001b[39m\u001b[38;5;241m.\u001b[39mversion)\n\u001b[1;32m    160\u001b[0m \u001b[38;5;28;01mif\u001b[39;00m \u001b[38;5;28mself\u001b[39m\u001b[38;5;241m.\u001b[39mmask_pattern \u001b[38;5;129;01mis\u001b[39;00m \u001b[38;5;28;01mNone\u001b[39;00m:\n\u001b[0;32m--> 161\u001b[0m     \u001b[38;5;28mself\u001b[39m\u001b[38;5;241m.\u001b[39mmakeImpl(\u001b[38;5;28;01mFalse\u001b[39;00m, \u001b[38;5;28;43mself\u001b[39;49m\u001b[38;5;241;43m.\u001b[39;49m\u001b[43mbest_mask_pattern\u001b[49m\u001b[43m(\u001b[49m\u001b[43m)\u001b[49m)\n\u001b[1;32m    162\u001b[0m \u001b[38;5;28;01melse\u001b[39;00m:\n\u001b[1;32m    163\u001b[0m     \u001b[38;5;28mself\u001b[39m\u001b[38;5;241m.\u001b[39mmakeImpl(\u001b[38;5;28;01mFalse\u001b[39;00m, \u001b[38;5;28mself\u001b[39m\u001b[38;5;241m.\u001b[39mmask_pattern)\n",
      "File \u001b[0;32m~/.local/lib/python3.10/site-packages/qrcode/main.py:249\u001b[0m, in \u001b[0;36mQRCode.best_mask_pattern\u001b[0;34m(self)\u001b[0m\n\u001b[1;32m    246\u001b[0m pattern \u001b[38;5;241m=\u001b[39m \u001b[38;5;241m0\u001b[39m\n\u001b[1;32m    248\u001b[0m \u001b[38;5;28;01mfor\u001b[39;00m i \u001b[38;5;129;01min\u001b[39;00m \u001b[38;5;28mrange\u001b[39m(\u001b[38;5;241m8\u001b[39m):\n\u001b[0;32m--> 249\u001b[0m     \u001b[38;5;28;43mself\u001b[39;49m\u001b[38;5;241;43m.\u001b[39;49m\u001b[43mmakeImpl\u001b[49m\u001b[43m(\u001b[49m\u001b[38;5;28;43;01mTrue\u001b[39;49;00m\u001b[43m,\u001b[49m\u001b[43m \u001b[49m\u001b[43mi\u001b[49m\u001b[43m)\u001b[49m\n\u001b[1;32m    251\u001b[0m     lost_point \u001b[38;5;241m=\u001b[39m util\u001b[38;5;241m.\u001b[39mlost_point(\u001b[38;5;28mself\u001b[39m\u001b[38;5;241m.\u001b[39mmodules)\n\u001b[1;32m    253\u001b[0m     \u001b[38;5;28;01mif\u001b[39;00m i \u001b[38;5;241m==\u001b[39m \u001b[38;5;241m0\u001b[39m \u001b[38;5;129;01mor\u001b[39;00m min_lost_point \u001b[38;5;241m>\u001b[39m lost_point:\n",
      "File \u001b[0;32m~/.local/lib/python3.10/site-packages/qrcode/main.py:188\u001b[0m, in \u001b[0;36mQRCode.makeImpl\u001b[0;34m(self, test, mask_pattern)\u001b[0m\n\u001b[1;32m    185\u001b[0m     \u001b[38;5;28mself\u001b[39m\u001b[38;5;241m.\u001b[39msetup_type_number(test)\n\u001b[1;32m    187\u001b[0m \u001b[38;5;28;01mif\u001b[39;00m \u001b[38;5;28mself\u001b[39m\u001b[38;5;241m.\u001b[39mdata_cache \u001b[38;5;129;01mis\u001b[39;00m \u001b[38;5;28;01mNone\u001b[39;00m:\n\u001b[0;32m--> 188\u001b[0m     \u001b[38;5;28mself\u001b[39m\u001b[38;5;241m.\u001b[39mdata_cache \u001b[38;5;241m=\u001b[39m \u001b[43mutil\u001b[49m\u001b[38;5;241;43m.\u001b[39;49m\u001b[43mcreate_data\u001b[49m\u001b[43m(\u001b[49m\n\u001b[1;32m    189\u001b[0m \u001b[43m        \u001b[49m\u001b[38;5;28;43mself\u001b[39;49m\u001b[38;5;241;43m.\u001b[39;49m\u001b[43mversion\u001b[49m\u001b[43m,\u001b[49m\u001b[43m \u001b[49m\u001b[38;5;28;43mself\u001b[39;49m\u001b[38;5;241;43m.\u001b[39;49m\u001b[43merror_correction\u001b[49m\u001b[43m,\u001b[49m\u001b[43m \u001b[49m\u001b[38;5;28;43mself\u001b[39;49m\u001b[38;5;241;43m.\u001b[39;49m\u001b[43mdata_list\u001b[49m\n\u001b[1;32m    190\u001b[0m \u001b[43m    \u001b[49m\u001b[43m)\u001b[49m\n\u001b[1;32m    191\u001b[0m \u001b[38;5;28mself\u001b[39m\u001b[38;5;241m.\u001b[39mmap_data(\u001b[38;5;28mself\u001b[39m\u001b[38;5;241m.\u001b[39mdata_cache, mask_pattern)\n",
      "File \u001b[0;32m~/.local/lib/python3.10/site-packages/qrcode/util.py:585\u001b[0m, in \u001b[0;36mcreate_data\u001b[0;34m(version, error_correction, data_list)\u001b[0m\n\u001b[1;32m    582\u001b[0m     \u001b[38;5;28;01melse\u001b[39;00m:\n\u001b[1;32m    583\u001b[0m         buffer\u001b[38;5;241m.\u001b[39mput(PAD1, \u001b[38;5;241m8\u001b[39m)\n\u001b[0;32m--> 585\u001b[0m \u001b[38;5;28;01mreturn\u001b[39;00m \u001b[43mcreate_bytes\u001b[49m\u001b[43m(\u001b[49m\u001b[43mbuffer\u001b[49m\u001b[43m,\u001b[49m\u001b[43m \u001b[49m\u001b[43mrs_blocks\u001b[49m\u001b[43m)\u001b[49m\n",
      "File \u001b[0;32m~/.local/lib/python3.10/site-packages/qrcode/util.py:528\u001b[0m, in \u001b[0;36mcreate_bytes\u001b[0;34m(buffer, rs_blocks)\u001b[0m\n\u001b[1;32m    524\u001b[0m         rsPoly \u001b[38;5;241m=\u001b[39m rsPoly \u001b[38;5;241m*\u001b[39m base\u001b[38;5;241m.\u001b[39mPolynomial([\u001b[38;5;241m1\u001b[39m, base\u001b[38;5;241m.\u001b[39mgexp(i)], \u001b[38;5;241m0\u001b[39m)\n\u001b[1;32m    526\u001b[0m rawPoly \u001b[38;5;241m=\u001b[39m base\u001b[38;5;241m.\u001b[39mPolynomial(current_dc, \u001b[38;5;28mlen\u001b[39m(rsPoly) \u001b[38;5;241m-\u001b[39m \u001b[38;5;241m1\u001b[39m)\n\u001b[0;32m--> 528\u001b[0m modPoly \u001b[38;5;241m=\u001b[39m \u001b[43mrawPoly\u001b[49m\u001b[43m \u001b[49m\u001b[38;5;241;43m%\u001b[39;49m\u001b[43m \u001b[49m\u001b[43mrsPoly\u001b[49m\n\u001b[1;32m    529\u001b[0m current_ec \u001b[38;5;241m=\u001b[39m []\n\u001b[1;32m    530\u001b[0m mod_offset \u001b[38;5;241m=\u001b[39m \u001b[38;5;28mlen\u001b[39m(modPoly) \u001b[38;5;241m-\u001b[39m ecCount\n",
      "File \u001b[0;32m~/.local/lib/python3.10/site-packages/qrcode/base.py:279\u001b[0m, in \u001b[0;36mPolynomial.__mod__\u001b[0;34m(self, other)\u001b[0m\n\u001b[1;32m    276\u001b[0m \u001b[38;5;28;01mif\u001b[39;00m difference \u001b[38;5;241m<\u001b[39m \u001b[38;5;241m0\u001b[39m:\n\u001b[1;32m    277\u001b[0m     \u001b[38;5;28;01mreturn\u001b[39;00m \u001b[38;5;28mself\u001b[39m\n\u001b[0;32m--> 279\u001b[0m ratio \u001b[38;5;241m=\u001b[39m \u001b[43mglog\u001b[49m\u001b[43m(\u001b[49m\u001b[38;5;28;43mself\u001b[39;49m\u001b[43m[\u001b[49m\u001b[38;5;241;43m0\u001b[39;49m\u001b[43m]\u001b[49m\u001b[43m)\u001b[49m \u001b[38;5;241m-\u001b[39m glog(other[\u001b[38;5;241m0\u001b[39m])\n\u001b[1;32m    281\u001b[0m num \u001b[38;5;241m=\u001b[39m [\n\u001b[1;32m    282\u001b[0m     item \u001b[38;5;241m^\u001b[39m gexp(glog(other_item) \u001b[38;5;241m+\u001b[39m ratio)\n\u001b[1;32m    283\u001b[0m     \u001b[38;5;28;01mfor\u001b[39;00m item, other_item \u001b[38;5;129;01min\u001b[39;00m \u001b[38;5;28mzip\u001b[39m(\u001b[38;5;28mself\u001b[39m, other)\n\u001b[1;32m    284\u001b[0m ]\n\u001b[1;32m    285\u001b[0m \u001b[38;5;28;01mif\u001b[39;00m difference:\n",
      "File \u001b[0;32m~/.local/lib/python3.10/site-packages/qrcode/base.py:236\u001b[0m, in \u001b[0;36mglog\u001b[0;34m(n)\u001b[0m\n\u001b[1;32m    234\u001b[0m \u001b[38;5;28;01mdef\u001b[39;00m \u001b[38;5;21mglog\u001b[39m(n):\n\u001b[1;32m    235\u001b[0m     \u001b[38;5;28;01mif\u001b[39;00m n \u001b[38;5;241m<\u001b[39m \u001b[38;5;241m1\u001b[39m:  \u001b[38;5;66;03m# pragma: no cover\u001b[39;00m\n\u001b[0;32m--> 236\u001b[0m         \u001b[38;5;28;01mraise\u001b[39;00m \u001b[38;5;167;01mValueError\u001b[39;00m(\u001b[38;5;124mf\u001b[39m\u001b[38;5;124m\"\u001b[39m\u001b[38;5;124mglog(\u001b[39m\u001b[38;5;132;01m{\u001b[39;00mn\u001b[38;5;132;01m}\u001b[39;00m\u001b[38;5;124m)\u001b[39m\u001b[38;5;124m\"\u001b[39m)\n\u001b[1;32m    237\u001b[0m     \u001b[38;5;28;01mreturn\u001b[39;00m LOG_TABLE[n]\n",
      "\u001b[0;31mValueError\u001b[0m: glog(0)"
     ]
    }
   ],
   "source": [
    "with open(\"test_file.JPG\", \"rb\") as f:\n",
    "    data = f.read()\n",
    "\n",
    "bin_to_qr(data, folder_path='out_path/'  ,chunk_size=2048, box_size=1, border=5)"
   ]
  },
  {
   "cell_type": "code",
   "execution_count": null,
   "id": "488d9c1e-236d-4348-9318-cabcd10b2c08",
   "metadata": {
    "scrolled": true
   },
   "outputs": [],
   "source": [
    "test_file_compressed = qr_to_bin(folder_path='out_path/')"
   ]
  },
  {
   "cell_type": "code",
   "execution_count": null,
   "id": "2fdd5317-d14a-45ec-b343-af8316c5806b",
   "metadata": {
    "scrolled": true
   },
   "outputs": [],
   "source": [
    "test_file = decompress_bytes(test_file_compressed)\n",
    "with open( \"test_file_out.JPG\", \"wb\") as f:\n",
    "     f.write(test_file)"
   ]
  }
 ],
 "metadata": {
  "kernelspec": {
   "display_name": "Python 3 (ipykernel)",
   "language": "python",
   "name": "python3"
  },
  "language_info": {
   "codemirror_mode": {
    "name": "ipython",
    "version": 3
   },
   "file_extension": ".py",
   "mimetype": "text/x-python",
   "name": "python",
   "nbconvert_exporter": "python",
   "pygments_lexer": "ipython3",
   "version": "3.10.12"
  }
 },
 "nbformat": 4,
 "nbformat_minor": 5
}
